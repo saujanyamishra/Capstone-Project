{
 "cells": [
  {
   "cell_type": "code",
   "execution_count": 1,
   "id": "fb63841a",
   "metadata": {},
   "outputs": [],
   "source": [
    "import pandas as pd \n",
    "import numpy as np"
   ]
  },
  {
   "cell_type": "code",
   "execution_count": 2,
   "id": "bd7248b9",
   "metadata": {},
   "outputs": [],
   "source": [
    "data=pd.read_csv(r\"C:\\Users\\dell\\Downloads\\Instruction and Dataset-20240102\\Life Expectancy Data.csv\")"
   ]
  },
  {
   "cell_type": "code",
   "execution_count": 3,
   "id": "9e47a301",
   "metadata": {},
   "outputs": [
    {
     "data": {
      "text/html": [
       "<div>\n",
       "<style scoped>\n",
       "    .dataframe tbody tr th:only-of-type {\n",
       "        vertical-align: middle;\n",
       "    }\n",
       "\n",
       "    .dataframe tbody tr th {\n",
       "        vertical-align: top;\n",
       "    }\n",
       "\n",
       "    .dataframe thead th {\n",
       "        text-align: right;\n",
       "    }\n",
       "</style>\n",
       "<table border=\"1\" class=\"dataframe\">\n",
       "  <thead>\n",
       "    <tr style=\"text-align: right;\">\n",
       "      <th></th>\n",
       "      <th>Country</th>\n",
       "      <th>Year</th>\n",
       "      <th>Status</th>\n",
       "      <th>Life expectancy</th>\n",
       "      <th>Adult mortality</th>\n",
       "      <th>Infant deaths</th>\n",
       "      <th>Alcohol</th>\n",
       "      <th>Percentage expenditure</th>\n",
       "      <th>Hepatitis B</th>\n",
       "      <th>Measles</th>\n",
       "      <th>...</th>\n",
       "      <th>Polio</th>\n",
       "      <th>Total expenditure</th>\n",
       "      <th>Diphtheria</th>\n",
       "      <th>HIV/AIDS</th>\n",
       "      <th>GDP</th>\n",
       "      <th>Population</th>\n",
       "      <th>Thinness  1-19 years</th>\n",
       "      <th>Thinness 5-9 years</th>\n",
       "      <th>Income composition of resources</th>\n",
       "      <th>Schooling</th>\n",
       "    </tr>\n",
       "  </thead>\n",
       "  <tbody>\n",
       "    <tr>\n",
       "      <th>0</th>\n",
       "      <td>Afghanistan</td>\n",
       "      <td>2015</td>\n",
       "      <td>Developing</td>\n",
       "      <td>65.0</td>\n",
       "      <td>263.0</td>\n",
       "      <td>62</td>\n",
       "      <td>0.01</td>\n",
       "      <td>71.279624</td>\n",
       "      <td>65.0</td>\n",
       "      <td>1154</td>\n",
       "      <td>...</td>\n",
       "      <td>6.0</td>\n",
       "      <td>8.16</td>\n",
       "      <td>65.0</td>\n",
       "      <td>0.1</td>\n",
       "      <td>584.259210</td>\n",
       "      <td>33736494</td>\n",
       "      <td>17.2</td>\n",
       "      <td>17.3</td>\n",
       "      <td>0.479</td>\n",
       "      <td>10.1</td>\n",
       "    </tr>\n",
       "    <tr>\n",
       "      <th>1</th>\n",
       "      <td>Afghanistan</td>\n",
       "      <td>2014</td>\n",
       "      <td>Developing</td>\n",
       "      <td>59.9</td>\n",
       "      <td>271.0</td>\n",
       "      <td>64</td>\n",
       "      <td>0.01</td>\n",
       "      <td>73.523582</td>\n",
       "      <td>62.0</td>\n",
       "      <td>492</td>\n",
       "      <td>...</td>\n",
       "      <td>58.0</td>\n",
       "      <td>8.18</td>\n",
       "      <td>62.0</td>\n",
       "      <td>0.1</td>\n",
       "      <td>612.696514</td>\n",
       "      <td>327582</td>\n",
       "      <td>17.5</td>\n",
       "      <td>17.5</td>\n",
       "      <td>0.476</td>\n",
       "      <td>10.0</td>\n",
       "    </tr>\n",
       "    <tr>\n",
       "      <th>2</th>\n",
       "      <td>Afghanistan</td>\n",
       "      <td>2013</td>\n",
       "      <td>Developing</td>\n",
       "      <td>59.9</td>\n",
       "      <td>268.0</td>\n",
       "      <td>66</td>\n",
       "      <td>0.01</td>\n",
       "      <td>73.219243</td>\n",
       "      <td>64.0</td>\n",
       "      <td>430</td>\n",
       "      <td>...</td>\n",
       "      <td>62.0</td>\n",
       "      <td>8.13</td>\n",
       "      <td>64.0</td>\n",
       "      <td>0.1</td>\n",
       "      <td>631.744976</td>\n",
       "      <td>31731688</td>\n",
       "      <td>17.7</td>\n",
       "      <td>17.7</td>\n",
       "      <td>0.470</td>\n",
       "      <td>9.9</td>\n",
       "    </tr>\n",
       "    <tr>\n",
       "      <th>3</th>\n",
       "      <td>Afghanistan</td>\n",
       "      <td>2012</td>\n",
       "      <td>Developing</td>\n",
       "      <td>59.5</td>\n",
       "      <td>272.0</td>\n",
       "      <td>69</td>\n",
       "      <td>0.01</td>\n",
       "      <td>78.184215</td>\n",
       "      <td>67.0</td>\n",
       "      <td>2787</td>\n",
       "      <td>...</td>\n",
       "      <td>67.0</td>\n",
       "      <td>8.52</td>\n",
       "      <td>67.0</td>\n",
       "      <td>0.1</td>\n",
       "      <td>669.959000</td>\n",
       "      <td>3696958</td>\n",
       "      <td>17.9</td>\n",
       "      <td>18.0</td>\n",
       "      <td>0.463</td>\n",
       "      <td>9.8</td>\n",
       "    </tr>\n",
       "    <tr>\n",
       "      <th>4</th>\n",
       "      <td>Afghanistan</td>\n",
       "      <td>2011</td>\n",
       "      <td>Developing</td>\n",
       "      <td>59.2</td>\n",
       "      <td>275.0</td>\n",
       "      <td>71</td>\n",
       "      <td>0.01</td>\n",
       "      <td>7.097109</td>\n",
       "      <td>68.0</td>\n",
       "      <td>3013</td>\n",
       "      <td>...</td>\n",
       "      <td>68.0</td>\n",
       "      <td>7.87</td>\n",
       "      <td>68.0</td>\n",
       "      <td>0.1</td>\n",
       "      <td>63.537231</td>\n",
       "      <td>2978599</td>\n",
       "      <td>18.2</td>\n",
       "      <td>18.2</td>\n",
       "      <td>0.454</td>\n",
       "      <td>9.5</td>\n",
       "    </tr>\n",
       "  </tbody>\n",
       "</table>\n",
       "<p>5 rows × 22 columns</p>\n",
       "</div>"
      ],
      "text/plain": [
       "       Country  Year      Status  Life expectancy  Adult mortality  \\\n",
       "0  Afghanistan  2015  Developing             65.0            263.0   \n",
       "1  Afghanistan  2014  Developing             59.9            271.0   \n",
       "2  Afghanistan  2013  Developing             59.9            268.0   \n",
       "3  Afghanistan  2012  Developing             59.5            272.0   \n",
       "4  Afghanistan  2011  Developing             59.2            275.0   \n",
       "\n",
       "   Infant deaths  Alcohol  Percentage expenditure  Hepatitis B  Measles  ...  \\\n",
       "0             62     0.01               71.279624         65.0     1154  ...   \n",
       "1             64     0.01               73.523582         62.0      492  ...   \n",
       "2             66     0.01               73.219243         64.0      430  ...   \n",
       "3             69     0.01               78.184215         67.0     2787  ...   \n",
       "4             71     0.01                7.097109         68.0     3013  ...   \n",
       "\n",
       "   Polio  Total expenditure  Diphtheria  HIV/AIDS         GDP  Population  \\\n",
       "0    6.0               8.16        65.0       0.1  584.259210    33736494   \n",
       "1   58.0               8.18        62.0       0.1  612.696514      327582   \n",
       "2   62.0               8.13        64.0       0.1  631.744976    31731688   \n",
       "3   67.0               8.52        67.0       0.1  669.959000     3696958   \n",
       "4   68.0               7.87        68.0       0.1   63.537231     2978599   \n",
       "\n",
       "   Thinness  1-19 years Thinness 5-9 years  Income composition of resources  \\\n",
       "0                  17.2               17.3                            0.479   \n",
       "1                  17.5               17.5                            0.476   \n",
       "2                  17.7               17.7                            0.470   \n",
       "3                  17.9               18.0                            0.463   \n",
       "4                  18.2               18.2                            0.454   \n",
       "\n",
       "   Schooling  \n",
       "0       10.1  \n",
       "1       10.0  \n",
       "2        9.9  \n",
       "3        9.8  \n",
       "4        9.5  \n",
       "\n",
       "[5 rows x 22 columns]"
      ]
     },
     "execution_count": 3,
     "metadata": {},
     "output_type": "execute_result"
    }
   ],
   "source": [
    "data.head()"
   ]
  },
  {
   "cell_type": "code",
   "execution_count": 4,
   "id": "0be98b39",
   "metadata": {},
   "outputs": [
    {
     "data": {
      "text/plain": [
       "Country                              0\n",
       "Year                                 0\n",
       "Status                              16\n",
       "Life expectancy                     10\n",
       "Adult mortality                     10\n",
       "Infant deaths                        0\n",
       "Alcohol                            194\n",
       "Percentage expenditure               0\n",
       "Hepatitis B                        553\n",
       "Measles                              0\n",
       "BMI                                 34\n",
       "Under-five deaths                    0\n",
       "Polio                               19\n",
       "Total expenditure                  226\n",
       "Diphtheria                          19\n",
       "HIV/AIDS                             0\n",
       "GDP                                448\n",
       "Population                           0\n",
       "Thinness  1-19 years                34\n",
       "Thinness 5-9 years                  34\n",
       "Income composition of resources    167\n",
       "Schooling                          163\n",
       "dtype: int64"
      ]
     },
     "execution_count": 4,
     "metadata": {},
     "output_type": "execute_result"
    }
   ],
   "source": [
    "data.isnull().sum()"
   ]
  },
  {
   "cell_type": "code",
   "execution_count": 5,
   "id": "65e96097",
   "metadata": {},
   "outputs": [
    {
     "name": "stdout",
     "output_type": "stream",
     "text": [
      "<class 'pandas.core.frame.DataFrame'>\n",
      "RangeIndex: 2938 entries, 0 to 2937\n",
      "Data columns (total 22 columns):\n",
      " #   Column                           Non-Null Count  Dtype  \n",
      "---  ------                           --------------  -----  \n",
      " 0   Country                          2938 non-null   object \n",
      " 1   Year                             2938 non-null   int64  \n",
      " 2   Status                           2922 non-null   object \n",
      " 3   Life expectancy                  2928 non-null   float64\n",
      " 4   Adult mortality                  2928 non-null   float64\n",
      " 5   Infant deaths                    2938 non-null   int64  \n",
      " 6   Alcohol                          2744 non-null   float64\n",
      " 7   Percentage expenditure           2938 non-null   float64\n",
      " 8   Hepatitis B                      2385 non-null   float64\n",
      " 9   Measles                          2938 non-null   int64  \n",
      " 10  BMI                              2904 non-null   float64\n",
      " 11  Under-five deaths                2938 non-null   int64  \n",
      " 12  Polio                            2919 non-null   float64\n",
      " 13  Total expenditure                2712 non-null   float64\n",
      " 14  Diphtheria                       2919 non-null   float64\n",
      " 15  HIV/AIDS                         2938 non-null   float64\n",
      " 16  GDP                              2490 non-null   float64\n",
      " 17  Population                       2938 non-null   object \n",
      " 18  Thinness  1-19 years             2904 non-null   float64\n",
      " 19  Thinness 5-9 years               2904 non-null   float64\n",
      " 20  Income composition of resources  2771 non-null   float64\n",
      " 21  Schooling                        2775 non-null   float64\n",
      "dtypes: float64(15), int64(4), object(3)\n",
      "memory usage: 505.1+ KB\n"
     ]
    }
   ],
   "source": [
    "data.info()"
   ]
  },
  {
   "cell_type": "code",
   "execution_count": 8,
   "id": "3ba67e5d",
   "metadata": {},
   "outputs": [
    {
     "data": {
      "text/plain": [
       "64      Antigua and Barbuda\n",
       "65      Antigua and Barbuda\n",
       "66      Antigua and Barbuda\n",
       "67      Antigua and Barbuda\n",
       "68      Antigua and Barbuda\n",
       "               ...         \n",
       "2901                  Yemen\n",
       "2902                  Yemen\n",
       "2903                  Yemen\n",
       "2904                  Yemen\n",
       "2905                  Yemen\n",
       "Name: Country, Length: 652, dtype: object"
      ]
     },
     "execution_count": 8,
     "metadata": {},
     "output_type": "execute_result"
    }
   ],
   "source": [
    "data.loc[data[\"Population\"] ==\"#\"][\"Country\"]"
   ]
  },
  {
   "cell_type": "code",
   "execution_count": 9,
   "id": "980bb6a1",
   "metadata": {},
   "outputs": [
    {
     "data": {
      "text/plain": [
       "0"
      ]
     },
     "execution_count": 9,
     "metadata": {},
     "output_type": "execute_result"
    }
   ],
   "source": [
    "data.Population.isnull().sum()"
   ]
  },
  {
   "cell_type": "code",
   "execution_count": 13,
   "id": "b7c860a1",
   "metadata": {},
   "outputs": [
    {
     "data": {
      "image/png": "[encoded data removed]",
      "text/plain": [
       "<Figure size 640x480 with 1 Axes>"
      ]
     },
     "metadata": {},
     "output_type": "display_data"
    }
   ],
   "source": [
    "import seaborn as sns\n",
    "import matplotlib.pyplot as plt\n",
    "\n",
    "# Assuming you have a DataFrame named 'government_health_expenditure' with the relevant data\n",
    "# Replace 'column_name' with the actual column containing expenditure data\n",
    "sns.boxplot(x=data['Total expenditure'])\n",
    "\n",
    "plt.title('Box Plot of Government Health Expenditure')\n",
    "plt.xlabel('Government Health Expenditure')\n",
    "\n",
    "plt.show()\n"
   ]
  },
  {
   "cell_type": "code",
   "execution_count": 15,
   "id": "739a121b",
   "metadata": {},
   "outputs": [
    {
     "name": "stdout",
     "output_type": "stream",
     "text": [
      "Mean after imputation: 6611.523863415521\n"
     ]
    }
   ],
   "source": [
    "# Impute missing values with the median\n",
    "median_value = data['GDP'].median()\n",
    "data['GDP'].fillna(median_value, inplace=True)\n",
    "\n",
    "# Display the mean after imputation\n",
    "mean_after_imputation = data['GDP'].mean()\n",
    "print(\"Mean after imputation:\", mean_after_imputation)"
   ]
  },
  {
   "cell_type": "code",
   "execution_count": 18,
   "id": "67d8b020",
   "metadata": {},
   "outputs": [
    {
     "name": "stdout",
     "output_type": "stream",
     "text": [
      "Frequency of 'Developing' category: 2429\n"
     ]
    }
   ],
   "source": [
    "# Impute missing values in the 'status' column with 'Developing'\n",
    "data['Status'].fillna('Developing', inplace=True)\n",
    "\n",
    "# Report the frequency of the 'Developing' category\n",
    "frequency_developing = data['Status'].value_counts()['Developing']\n",
    "print(\"Frequency of 'Developing' category:\", frequency_developing)"
   ]
  },
  {
   "cell_type": "code",
   "execution_count": 19,
   "id": "5f6f692c",
   "metadata": {},
   "outputs": [
    {
     "name": "stdout",
     "output_type": "stream",
     "text": [
      "Average GDP for Albania: 2119.7266788750003\n"
     ]
    }
   ],
   "source": [
    "albania_gdp_data = data[data['Country'] == 'Albania']\n",
    "\n",
    "# Calculate the average GDP for Albania\n",
    "average_gdp_albania = albania_gdp_data['GDP'].mean()\n",
    "\n",
    "print(\"Average GDP for Albania:\", average_gdp_albania)"
   ]
  },
  {
   "cell_type": "code",
   "execution_count": 20,
   "id": "e7da8b61",
   "metadata": {},
   "outputs": [
    {
     "name": "stdout",
     "output_type": "stream",
     "text": [
      "Average Adult Mortality Rate for Yemen: 211.8125\n"
     ]
    }
   ],
   "source": [
    "yemen_mortality_data = data[data['Country'] == 'Yemen']\n",
    "\n",
    "# Calculate the average adult mortality rate for Yemen\n",
    "average_adult_mortality_yemen = yemen_mortality_data['Adult mortality'].mean()\n",
    "\n",
    "print(\"Average Adult Mortality Rate for Yemen:\", average_adult_mortality_yemen)"
   ]
  },
  {
   "cell_type": "code",
   "execution_count": 22,
   "id": "a04f663f",
   "metadata": {},
   "outputs": [
    {
     "data": {
      "image/png": "[encoded data removed]",
      "text/plain": [
       "<Figure size 640x480 with 1 Axes>"
      ]
     },
     "metadata": {},
     "output_type": "display_data"
    },
    {
     "name": "stdout",
     "output_type": "stream",
     "text": [
      "Correlation Coefficient: 0.9018191027160053\n",
      "There is a strong linear relationship between Percentage Expenditure and GDP.\n"
     ]
    }
   ],
   "source": [
    "sns.scatterplot(x='Percentage expenditure', y='GDP', data=data)\n",
    "\n",
    "# Calculate the correlation coefficient\n",
    "correlation_coefficient = data['Percentage expenditure'].corr(data['GDP'])\n",
    "\n",
    "# Add title and labels\n",
    "plt.title('Scatter Plot of Percentage expenditure vs. GDP')\n",
    "plt.xlabel('Percentage Expenditure')\n",
    "plt.ylabel('GDP')\n",
    "\n",
    "# Show the plot\n",
    "plt.show()\n",
    "\n",
    "# Output the correlation coefficient\n",
    "print(\"Correlation Coefficient:\", correlation_coefficient)\n",
    "\n",
    "# Determine if there is a linear relationship\n",
    "if abs(correlation_coefficient) >= 0.7:  # You can adjust the threshold as needed\n",
    "    print(\"There is a strong linear relationship between Percentage Expenditure and GDP.\")\n",
    "else:\n",
    "    print(\"There is no strong linear relationship between Percentage Expenditure and GDP.\")"
   ]
  },
  {
   "cell_type": "code",
   "execution_count": 23,
   "id": "e7d4498a",
   "metadata": {},
   "outputs": [
    {
     "name": "stdout",
     "output_type": "stream",
     "text": [
      "Mean Adult Mortality Rate in Developing Countries: 182.64406779661016\n",
      "Mean Adult Mortality Rate in Developed Countries: 79.97642436149313\n",
      "Adult mortality rate is higher in Developing countries.\n"
     ]
    }
   ],
   "source": [
    "mean_adult_mortality_developing = data[data['Status'] == 'Developing']['Adult mortality'].mean()\n",
    "\n",
    "# Calculate the mean adult mortality rate for Developed countries\n",
    "mean_adult_mortality_developed = data[data['Status'] == 'Developed']['Adult mortality'].mean()\n",
    "\n",
    "# Output the results\n",
    "print(\"Mean Adult Mortality Rate in Developing Countries:\", mean_adult_mortality_developing)\n",
    "print(\"Mean Adult Mortality Rate in Developed Countries:\", mean_adult_mortality_developed)\n",
    "\n",
    "# Compare the means\n",
    "if mean_adult_mortality_developing > mean_adult_mortality_developed:\n",
    "    print(\"Adult mortality rate is higher in Developing countries.\")\n",
    "elif mean_adult_mortality_developing < mean_adult_mortality_developed:\n",
    "    print(\"Adult mortality rate is higher in Developed countries.\")\n",
    "else:\n",
    "    print(\"There is no significant difference in adult mortality rate between Developing and Developed countries.\")"
   ]
  },
  {
   "cell_type": "code",
   "execution_count": null,
   "id": "8529ee8a",
   "metadata": {},
   "outputs": [],
   "source": []
  }
 ],
 "metadata": {
  "kernelspec": {
   "display_name": "Python 3 (ipykernel)",
   "language": "python",
   "name": "python3"
  },
  "language_info": {
   "codemirror_mode": {
    "name": "ipython",
    "version": 3
   },
   "file_extension": ".py",
   "mimetype": "text/x-python",
   "name": "python",
   "nbconvert_exporter": "python",
   "pygments_lexer": "ipython3",
   "version": "3.11.4"
  }
 },
 "nbformat": 4,
 "nbformat_minor": 5
}
